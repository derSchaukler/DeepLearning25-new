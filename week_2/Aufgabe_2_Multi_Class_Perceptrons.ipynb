{
  "cells": [
    {
      "cell_type": "markdown",
      "metadata": {
        "id": "gjZCctPzbeRF"
      },
      "source": [
        "# Aufgabe 2: Multi-Class Perceptrons"
      ]
    },
    {
      "cell_type": "code",
      "source": [
        "import numpy as np\n",
        "import matplotlib.pyplot as plt\n",
        "from sklearn.datasets import make_blobs #for data generatio\n",
        "from sklearn.preprocessing import OneHotEncoder"
      ],
      "metadata": {
        "id": "xcPoIKqJbjJl"
      },
      "execution_count": 203,
      "outputs": []
    },
    {
      "cell_type": "code",
      "source": [
        "def plot_line_from_normal_vector_and_offset(normal_vector, offset, x_range=None, ax=None, **kwargs):\n",
        "    \"\"\"\n",
        "    Plots a 2D line defined by its normal vector w and offset b such that wx + b = 0.\n",
        "\n",
        "    Args:\n",
        "        normal_vector (list or numpy.ndarray): A 2D vector representing the normal to the line (w). Must be of length 2.\n",
        "        offset (float): The offset (b) such that w.x + b = 0.\n",
        "        x_range (tuple, optional): A tuple (xmin, xmax) specifying the range of x-values to plot.\n",
        "                                     If None (default), a reasonable range is automatically determined.\n",
        "        ax (matplotlib.axes._axes.Axes, optional): The matplotlib axes object to plot on. If None (default),\n",
        "                                                  the current axes (plt.gca()) is used, or a new figure and axes\n",
        "                                                  are created.\n",
        "        **kwargs: Keyword arguments to pass to the `plot` function (e.g., color, linestyle, linewidth).\n",
        "\n",
        "    Returns:\n",
        "        matplotlib.lines.Line2D: The line object created by `ax.plot`.\n",
        "    \"\"\"\n",
        "    normal_vector = np.array(normal_vector)  # Ensure it's a NumPy array for calculations\n",
        "\n",
        "    if normal_vector.shape != (2,):\n",
        "        raise ValueError(\"Normal vector must be a 2D vector (length 2).\")\n",
        "\n",
        "    w1, w2 = normal_vector\n",
        "\n",
        "    if ax is None:\n",
        "        fig, ax = plt.subplots()\n",
        "\n",
        "    if x_range is None:\n",
        "        # Determine a reasonable x-range\n",
        "        xmin = -5\n",
        "        xmax = 5\n",
        "        x_range = (xmin, xmax)\n",
        "\n",
        "    xmin, xmax = x_range\n",
        "    x = np.linspace(xmin, xmax, 100)  # Generate x-values\n",
        "\n",
        "    if w2 != 0:\n",
        "        y = (-w1 * x - offset) / w2  # Solve for y: w1*x + w2*y + b = 0  =>  y = (-w1*x - b) / w2\n",
        "    else:\n",
        "        # Handle the case where the line is vertical (w2=0). Plot a vertical line.\n",
        "        if w1 == 0:\n",
        "            raise ValueError(\"Cannot plot line with w1=0 and w2=0.\")\n",
        "        x = np.full_like(x, -offset / w1)  # x is constant for a vertical line\n",
        "        y = np.linspace(ax.get_ylim()[0], ax.get_ylim()[1], 100)  # generate y values spanning the current y-axis.\n",
        "\n",
        "\n",
        "\n",
        "    line, = ax.plot(x, y, **kwargs)\n",
        "\n",
        "    return line"
      ],
      "metadata": {
        "id": "unwBPMqxefmD"
      },
      "execution_count": 204,
      "outputs": []
    },
    {
      "cell_type": "code",
      "execution_count": 205,
      "metadata": {
        "id": "E6iKmR-HbeRJ"
      },
      "outputs": [],
      "source": [
        "X, y = make_blobs(n_samples=50, centers=3, cluster_std=0.2,n_features=2,center_box=(1,5),random_state=104)"
      ]
    },
    {
      "cell_type": "code",
      "execution_count": 206,
      "metadata": {
        "scrolled": true,
        "colab": {
          "base_uri": "https://localhost:8080/",
          "height": 452
        },
        "id": "g8o2H3rtbeRL",
        "outputId": "b07002ec-39d4-4321-b9c2-85da7163b728"
      },
      "outputs": [
        {
          "output_type": "execute_result",
          "data": {
            "text/plain": [
              "<matplotlib.colorbar.Colorbar at 0x7856960040d0>"
            ]
          },
          "metadata": {},
          "execution_count": 206
        },
        {
          "output_type": "display_data",
          "data": {
            "text/plain": [
              "<Figure size 640x480 with 2 Axes>"
            ],
            "image/png": "[encoded data removed]"
          },
          "metadata": {}
        }
      ],
      "source": [
        "plt.scatter(X[:,0],X[:,1],c=y)\n",
        "plt.colorbar()"
      ]
    },
    {
      "cell_type": "markdown",
      "metadata": {
        "id": "_PHFTbVPbeRP"
      },
      "source": [
        "### draw Percepton layout\n",
        "* Hint: now we have more then one Perceptron\n",
        "* write math. formulation as linear model"
      ]
    },
    {
      "cell_type": "code",
      "execution_count": 207,
      "metadata": {
        "id": "Lg80xVQVbeRQ"
      },
      "outputs": [],
      "source": [
        "# W = [w1,w2,w3]\n",
        "# B = [b1,b2,b3]"
      ]
    },
    {
      "cell_type": "markdown",
      "metadata": {
        "id": "kj-IGALMbeRQ"
      },
      "source": [
        "### Transform lables to one-hot coding\n",
        "* Hint: Use Scikit-Learn"
      ]
    },
    {
      "cell_type": "code",
      "source": [
        "enc = OneHotEncoder(handle_unknown='ignore')\n",
        "y_encoded = enc.fit_transform(y.reshape(-1,1)).toarray()\n",
        "y_encoded[y_encoded == 0] = -1\n",
        "y_encoded\n"
      ],
      "metadata": {
        "id": "5cAu1aVOQL08",
        "outputId": "e2c1beaf-8f23-4140-b861-6a51fc936e7a",
        "colab": {
          "base_uri": "https://localhost:8080/"
        }
      },
      "execution_count": 208,
      "outputs": [
        {
          "output_type": "execute_result",
          "data": {
            "text/plain": [
              "array([[ 1., -1., -1.],\n",
              "       [-1.,  1., -1.],\n",
              "       [-1., -1.,  1.],\n",
              "       [-1.,  1., -1.],\n",
              "       [-1., -1.,  1.],\n",
              "       [-1., -1.,  1.],\n",
              "       [-1.,  1., -1.],\n",
              "       [ 1., -1., -1.],\n",
              "       [-1., -1.,  1.],\n",
              "       [-1., -1.,  1.],\n",
              "       [ 1., -1., -1.],\n",
              "       [-1., -1.,  1.],\n",
              "       [ 1., -1., -1.],\n",
              "       [-1.,  1., -1.],\n",
              "       [-1.,  1., -1.],\n",
              "       [ 1., -1., -1.],\n",
              "       [ 1., -1., -1.],\n",
              "       [-1.,  1., -1.],\n",
              "       [-1.,  1., -1.],\n",
              "       [ 1., -1., -1.],\n",
              "       [-1., -1.,  1.],\n",
              "       [-1.,  1., -1.],\n",
              "       [-1., -1.,  1.],\n",
              "       [-1.,  1., -1.],\n",
              "       [-1.,  1., -1.],\n",
              "       [-1.,  1., -1.],\n",
              "       [ 1., -1., -1.],\n",
              "       [-1.,  1., -1.],\n",
              "       [-1., -1.,  1.],\n",
              "       [-1.,  1., -1.],\n",
              "       [-1., -1.,  1.],\n",
              "       [ 1., -1., -1.],\n",
              "       [ 1., -1., -1.],\n",
              "       [-1.,  1., -1.],\n",
              "       [-1., -1.,  1.],\n",
              "       [-1., -1.,  1.],\n",
              "       [-1., -1.,  1.],\n",
              "       [ 1., -1., -1.],\n",
              "       [-1., -1.,  1.],\n",
              "       [ 1., -1., -1.],\n",
              "       [ 1., -1., -1.],\n",
              "       [-1., -1.,  1.],\n",
              "       [ 1., -1., -1.],\n",
              "       [-1., -1.,  1.],\n",
              "       [-1.,  1., -1.],\n",
              "       [ 1., -1., -1.],\n",
              "       [ 1., -1., -1.],\n",
              "       [-1.,  1., -1.],\n",
              "       [ 1., -1., -1.],\n",
              "       [-1.,  1., -1.]])"
            ]
          },
          "metadata": {},
          "execution_count": 208
        }
      ]
    },
    {
      "cell_type": "markdown",
      "metadata": {
        "id": "nOglVpubbeRR"
      },
      "source": [
        "### Manually find parameters $w$ and $b$ for\n",
        "* for each Perceptron seperately\n",
        "* then combine to single matrix multiplication formulation"
      ]
    },
    {
      "cell_type": "code",
      "execution_count": 209,
      "metadata": {
        "colab": {
          "base_uri": "https://localhost:8080/",
          "height": 435
        },
        "id": "q9ExgRPcbeRT",
        "outputId": "4ad8dcd7-b959-4387-f26a-40e5d29c6572"
      },
      "outputs": [
        {
          "output_type": "display_data",
          "data": {
            "text/plain": [
              "<Figure size 640x480 with 2 Axes>"
            ],
            "image/png": "[encoded data removed]"
          },
          "metadata": {}
        }
      ],
      "source": [
        "#part 1: find slopes and intercepts by using the visualization\n",
        "w1=np.array([-1,-1])\n",
        "b1=4.5\n",
        "w2=np.array([1,-1])\n",
        "b2=-1\n",
        "w3=np.array([0,1])\n",
        "b3=-3\n",
        "\n",
        "# combine slopes and intercepts to a matrix\n",
        "W = np.array([w1,w2,w3])\n",
        "B = np.array([b1,b2,b3])\n",
        "\n",
        "# create a plot for all parts\n",
        "fig, ax = plt.subplots()\n",
        "plt.scatter(X[:,0],X[:,1],c=y)\n",
        "plt.colorbar()\n",
        "\n",
        "# add the lines to the plot\n",
        "line1 = plot_line_from_normal_vector_and_offset(w1, b1, color='blue', x_range=[1,4.5], ax=ax)\n",
        "line2 = plot_line_from_normal_vector_and_offset(w2, b2, color='red', x_range=[1,4.5], ax=ax)\n",
        "line3 = plot_line_from_normal_vector_and_offset(w3, b3, color='green', x_range=[1,5], ax=ax)\n",
        "\n",
        "\n",
        "plt.quiver(1,b1-1,w1[0],w1[1])\n",
        "plt.quiver(1,b2+1,w2[0],w2[1])\n",
        "plt.quiver(1,3,w3[0],w3[1])\n",
        "plt.grid()\n",
        "plt.show()"
      ]
    },
    {
      "cell_type": "code",
      "source": [
        "# combine the matrix of W and B to a formular\n",
        "predicts = W.dot(X.T)+B.reshape(3, 1)"
      ],
      "metadata": {
        "id": "236xQEbNiXcs"
      },
      "execution_count": 210,
      "outputs": []
    },
    {
      "cell_type": "markdown",
      "metadata": {
        "id": "V65EIRihbeRU"
      },
      "source": [
        "#### test single perceptrons by class\n"
      ]
    },
    {
      "cell_type": "code",
      "execution_count": 211,
      "metadata": {
        "colab": {
          "base_uri": "https://localhost:8080/"
        },
        "id": "Qy3P6jQsbeRU",
        "outputId": "629ec1b3-33ed-4df1-d621-3b74a109568b"
      },
      "outputs": [
        {
          "output_type": "stream",
          "name": "stdout",
          "text": [
            "[ 0.96576369 -1.41375433 -1.02600468]\n",
            "[ 1. -1. -1.] [ 1. -1. -1.]\n"
          ]
        },
        {
          "output_type": "execute_result",
          "data": {
            "text/plain": [
              "array([ True,  True,  True])"
            ]
          },
          "metadata": {},
          "execution_count": 211
        }
      ],
      "source": [
        "i=0\n",
        "print(W.dot(X[i,:].T)+B)\n",
        "print (y_encoded[i],np.sign(W.dot(X[i,:].T)+B))\n",
        "y_encoded[i]==np.sign(W.dot(X[i,:].T)+B)\n",
        "\n"
      ]
    },
    {
      "cell_type": "markdown",
      "metadata": {
        "id": "ZCzBf62wbeRV"
      },
      "source": [
        "#### test full Setup"
      ]
    },
    {
      "cell_type": "code",
      "source": [
        "y_encoded==np.sign(predicts).T"
      ],
      "metadata": {
        "id": "_7F6j-U7SFwO",
        "outputId": "1f234c2f-9606-4192-8dca-306b5d9536a7",
        "colab": {
          "base_uri": "https://localhost:8080/"
        }
      },
      "execution_count": 212,
      "outputs": [
        {
          "output_type": "execute_result",
          "data": {
            "text/plain": [
              "array([[ True,  True,  True],\n",
              "       [ True,  True,  True],\n",
              "       [ True,  True,  True],\n",
              "       [ True,  True,  True],\n",
              "       [ True,  True,  True],\n",
              "       [ True,  True,  True],\n",
              "       [ True,  True,  True],\n",
              "       [ True,  True,  True],\n",
              "       [ True,  True,  True],\n",
              "       [ True,  True,  True],\n",
              "       [ True,  True,  True],\n",
              "       [ True,  True,  True],\n",
              "       [ True,  True,  True],\n",
              "       [ True,  True,  True],\n",
              "       [ True,  True,  True],\n",
              "       [ True,  True,  True],\n",
              "       [ True,  True,  True],\n",
              "       [ True,  True,  True],\n",
              "       [ True,  True,  True],\n",
              "       [ True,  True,  True],\n",
              "       [ True,  True,  True],\n",
              "       [ True,  True,  True],\n",
              "       [ True,  True,  True],\n",
              "       [ True,  True,  True],\n",
              "       [ True,  True,  True],\n",
              "       [ True,  True,  True],\n",
              "       [ True,  True,  True],\n",
              "       [ True,  True,  True],\n",
              "       [ True,  True,  True],\n",
              "       [ True,  True,  True],\n",
              "       [ True,  True,  True],\n",
              "       [ True,  True,  True],\n",
              "       [ True,  True,  True],\n",
              "       [ True,  True,  True],\n",
              "       [ True,  True,  True],\n",
              "       [ True,  True,  True],\n",
              "       [ True,  True,  True],\n",
              "       [ True,  True,  True],\n",
              "       [ True,  True,  True],\n",
              "       [ True,  True,  True],\n",
              "       [ True,  True,  True],\n",
              "       [ True,  True,  True],\n",
              "       [ True,  True,  True],\n",
              "       [ True,  True,  True],\n",
              "       [ True,  True,  True],\n",
              "       [ True,  True,  True],\n",
              "       [ True,  True,  True],\n",
              "       [ True,  True,  True],\n",
              "       [ True,  True,  True],\n",
              "       [ True,  True,  True]])"
            ]
          },
          "metadata": {},
          "execution_count": 212
        }
      ]
    },
    {
      "cell_type": "markdown",
      "metadata": {
        "id": "MckURKcnbeRX"
      },
      "source": [
        "## Add non-linear activation / loss -> $softmax$\n",
        "* implement a $softmax$ function\n",
        "* replace $sgn$ by $softmax$\n",
        "* plot confidence of the test samples"
      ]
    },
    {
      "cell_type": "code",
      "execution_count": 213,
      "metadata": {
        "id": "9N_i3ppBbeRY"
      },
      "outputs": [],
      "source": [
        "def softmax(x):\n",
        "    \"\"\"Compute softmax values for each sets of scores in x.\"\"\"\n",
        "\n",
        "    exps = np.exp(x - np.max(x, axis=0, keepdims=True))\n",
        "    probs = exps / np.sum(exps, axis=0, keepdims=True)\n",
        "\n",
        "    return probs\n"
      ]
    },
    {
      "cell_type": "code",
      "source": [
        "predicts_softmax = softmax(predicts).T\n",
        "print(\"Confidence of test sampels:\", predicts_softmax)"
      ],
      "metadata": {
        "id": "HCCGevbbc96-",
        "outputId": "dbb61707-0465-484b-b0fa-bebfb42113d6",
        "colab": {
          "base_uri": "https://localhost:8080/"
        }
      },
      "execution_count": 214,
      "outputs": [
        {
          "output_type": "stream",
          "name": "stdout",
          "text": [
            "Confidence of test sampels: [[0.81363714 0.07533889 0.11102397]\n",
            " [0.05381493 0.7444566  0.20172846]\n",
            " [0.18317461 0.02271164 0.79411375]\n",
            " [0.09525892 0.76188512 0.14285596]\n",
            " [0.08468409 0.01091105 0.90440486]\n",
            " [0.10417953 0.01091977 0.8849007 ]\n",
            " [0.03000223 0.83223851 0.13775926]\n",
            " [0.6818645  0.11006049 0.208075  ]\n",
            " [0.12897586 0.01314013 0.857884  ]\n",
            " [0.10625443 0.01541397 0.87833161]\n",
            " [0.86161615 0.06559203 0.07279181]\n",
            " [0.10127632 0.01620223 0.88252146]\n",
            " [0.68657611 0.12666749 0.18675639]\n",
            " [0.0402193  0.83572004 0.12406066]\n",
            " [0.05349348 0.77903119 0.16747533]\n",
            " [0.78908609 0.10344824 0.10746567]\n",
            " [0.8881383  0.0458754  0.0659863 ]\n",
            " [0.05121545 0.79712227 0.15166228]\n",
            " [0.04553738 0.72693424 0.22752838]\n",
            " [0.81489395 0.0983773  0.08672876]\n",
            " [0.08026878 0.01159842 0.9081328 ]\n",
            " [0.03959731 0.78063993 0.17976276]\n",
            " [0.0635269  0.00627722 0.93019587]\n",
            " [0.08849943 0.69604328 0.21545729]\n",
            " [0.04762235 0.83245865 0.119919  ]\n",
            " [0.04051589 0.88222791 0.0772562 ]\n",
            " [0.764524   0.10261463 0.13286137]\n",
            " [0.05316909 0.81450087 0.13233004]\n",
            " [0.06562033 0.01231534 0.92206433]\n",
            " [0.05547554 0.80456437 0.13996009]\n",
            " [0.1482775  0.0105722  0.8411503 ]\n",
            " [0.78751659 0.11567251 0.0968109 ]\n",
            " [0.87660756 0.05726914 0.0661233 ]\n",
            " [0.02488337 0.84097181 0.13414482]\n",
            " [0.08789579 0.00629285 0.90581136]\n",
            " [0.08270418 0.0124048  0.90489102]\n",
            " [0.08308428 0.01282177 0.90409395]\n",
            " [0.70790616 0.16644139 0.12565246]\n",
            " [0.09649324 0.01923444 0.88427232]\n",
            " [0.71268869 0.10525434 0.18205697]\n",
            " [0.84509093 0.06782018 0.08708889]\n",
            " [0.09821221 0.01437117 0.88741662]\n",
            " [0.8822772  0.04711198 0.07061082]\n",
            " [0.04121962 0.00764067 0.95113971]\n",
            " [0.03109818 0.88238003 0.08652179]\n",
            " [0.8284491  0.07196692 0.09958398]\n",
            " [0.82569747 0.09394603 0.0803565 ]\n",
            " [0.04977768 0.84952    0.10070232]\n",
            " [0.85314295 0.05716731 0.08968974]\n",
            " [0.04934958 0.76453028 0.18612014]]\n"
          ]
        }
      ]
    }
  ],
  "metadata": {
    "celltoolbar": "Slideshow",
    "kernelspec": {
      "display_name": "Python 3 (ipykernel)",
      "language": "python",
      "name": "python3"
    },
    "language_info": {
      "codemirror_mode": {
        "name": "ipython",
        "version": 3
      },
      "file_extension": ".py",
      "mimetype": "text/x-python",
      "name": "python",
      "nbconvert_exporter": "python",
      "pygments_lexer": "ipython3",
      "version": "3.11.4"
    },
    "colab": {
      "provenance": []
    }
  },
  "nbformat": 4,
  "nbformat_minor": 0
}